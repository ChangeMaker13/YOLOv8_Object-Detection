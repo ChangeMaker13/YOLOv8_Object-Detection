{
  "cells": [
    {
      "cell_type": "markdown",
      "source": [
        "# configuration"
      ],
      "metadata": {
        "id": "fShF-Qx2qs4h"
      }
    },
    {
      "cell_type": "code",
      "source": [
        "from google.colab import drive\n",
        "drive.mount('/content/drive')"
      ],
      "metadata": {
        "id": "3grhYOWdqyLq"
      },
      "execution_count": null,
      "outputs": []
    },
    {
      "cell_type": "code",
      "execution_count": 2,
      "metadata": {
        "id": "DtC7NepGoBqA",
        "colab": {
          "base_uri": "https://localhost:8080/"
        },
        "outputId": "97f55d41-d416-4405-9db4-de7d77726407"
      },
      "outputs": [
        {
          "output_type": "stream",
          "name": "stderr",
          "text": [
            "Ultralytics YOLOv8.0.141 🚀 Python-3.10.6 torch-2.0.1+cu118 CUDA:0 (Tesla T4, 15102MiB)\n",
            "Setup complete ✅ (4 CPUs, 25.5 GB RAM, 24.3/166.8 GB disk)\n"
          ]
        }
      ],
      "source": [
        "%pip install ultralytics\n",
        "import ultralytics\n",
        "ultralytics.checks()"
      ]
    },
    {
      "cell_type": "markdown",
      "source": [
        "# fetch dataset"
      ],
      "metadata": {
        "id": "rXEJWwg9-53A"
      }
    },
    {
      "cell_type": "code",
      "source": [
        "! cp /content/drive/MyDrive/car_reduced.zip /content/car_reduced.zip\n",
        "! unzip -u '/content/car_reduced.zip' -d '/content/car_reduced'"
      ],
      "metadata": {
        "id": "1n-rc8vSoaW8"
      },
      "execution_count": null,
      "outputs": []
    },
    {
      "cell_type": "code",
      "source": [
        "! mkdir /content/dataset\n",
        "! mv /content/car_reduced/content/splited_data /content/"
      ],
      "metadata": {
        "id": "vMreS-oe_JD0"
      },
      "execution_count": 11,
      "outputs": []
    },
    {
      "cell_type": "code",
      "source": [
        "!mv /content/splited_data/data.yaml /content/data.yaml"
      ],
      "metadata": {
        "id": "dxZCwKRqEvQ9"
      },
      "execution_count": 12,
      "outputs": []
    },
    {
      "cell_type": "code",
      "source": [
        "!rm -r /content/car_reduced\n",
        "!rm -r /content/dataset"
      ],
      "metadata": {
        "id": "jaxiaKOF_znm"
      },
      "execution_count": 13,
      "outputs": []
    },
    {
      "cell_type": "markdown",
      "metadata": {
        "id": "EU_XOAb-onVt"
      },
      "source": [
        "# Training"
      ]
    },
    {
      "cell_type": "code",
      "execution_count": null,
      "metadata": {
        "id": "WTmrODodklR0"
      },
      "outputs": [],
      "source": [
        "from ultralytics import YOLO\n",
        "\n",
        "# Create a new YOLO model from scratch\n",
        "model = YOLO('yolov8n.yaml')\n",
        "\n",
        "# Train the model using the 'coco128.yaml' dataset for 3 epochs\n",
        "results = model.train(data='/content/data.yaml',\n",
        "                      epochs=300, batch=32, save=True, project=\"/content/drive/MyDrive/final_model_reducecar_prevpothole\",\n",
        "                      lr0=0.001, optimizer=\"Adam\")\n",
        "\n",
        "# Evaluate the model's performance on the validation set\n",
        "results = model.val()"
      ]
    },
    {
      "cell_type": "markdown",
      "source": [
        "# Training(Resume)"
      ],
      "metadata": {
        "id": "CwYRmy1Lr4O7"
      }
    },
    {
      "cell_type": "code",
      "source": [
        "!cp /content/drive/MyDrive/final_model_reducecar_optparam/train/weights/last.pt /content/last.pt"
      ],
      "metadata": {
        "id": "xdKh8s1j_fFx"
      },
      "execution_count": null,
      "outputs": []
    },
    {
      "cell_type": "code",
      "source": [
        "from ultralytics import YOLO\n",
        "\n",
        "# Load a model\n",
        "model = YOLO('/content/last.pt')  # load a partially trained model\n",
        "\n",
        "# Resume training\n",
        "model.train(resume=True, save=True, project=\"/content/drive/MyDrive/final_model_reducecar_optparam\",)\n"
      ],
      "metadata": {
        "id": "dtrX9PjItA3z"
      },
      "execution_count": null,
      "outputs": []
    },
    {
      "cell_type": "code",
      "source": [
        "!cp -r /content/runs/detect/train7 /content/drive/MyDrive/train7"
      ],
      "metadata": {
        "id": "uC276-wHoNwa"
      },
      "execution_count": null,
      "outputs": []
    },
    {
      "cell_type": "code",
      "execution_count": null,
      "metadata": {
        "id": "KsnOkUBto5_j"
      },
      "outputs": [],
      "source": [
        "#Bring trained model from GD\n",
        "!cp -ar \"/content/drive/MyDrive/models/only pothole trained/weights/best.pt\" \"/content/model.pt\""
      ]
    },
    {
      "cell_type": "code",
      "source": [
        "model = YOLO('model.pt')"
      ],
      "metadata": {
        "id": "hGhE1juqrAgo"
      },
      "execution_count": null,
      "outputs": []
    },
    {
      "cell_type": "code",
      "execution_count": null,
      "metadata": {
        "id": "0K_M6nuigLAk"
      },
      "outputs": [],
      "source": [
        "from ultralytics import YOLO\n",
        "\n",
        "# Define source as YouTube video URL\n",
        "source = 'https://www.youtube.com/watch?v=Hq0Y24UijMo'\n",
        "\n",
        "# Run inference on the source\n",
        "results = model(source, stream=True)  # generator of Results objects"
      ]
    },
    {
      "cell_type": "code",
      "execution_count": null,
      "metadata": {
        "id": "r05YRs0Fltxu"
      },
      "outputs": [],
      "source": [
        "import cv2\n",
        "from google.colab.patches import cv2_imshow\n",
        "import matplotlib.pyplot as plt\n",
        "\n",
        "cnt = 0\n",
        "\n",
        "plt.ion()\n",
        "print(next(results))\n",
        "frame = plt.imshow(next(results))\n",
        "\n",
        "while True:\n",
        "  try:\n",
        "    result = next(results)\n",
        "    #print(result)\n",
        "\n",
        "    # Visualize the results on the frame\n",
        "    #frame = result\n",
        "    frame.set_data(result)\n",
        "\n",
        "    # Display the annotated frame\n",
        "    #cv2_imshow(annotated_frame)\n",
        "\n",
        "    plt.pause(0.2)\n",
        "\n",
        "    cnt += 1\n",
        "    if(cnt >= 30):\n",
        "      break\n",
        "\n",
        "    # Break the loop if 'q' is pressed\n",
        "    if cv2.waitKey(1) & 0xFF == ord(\"q\"):\n",
        "      break\n",
        "  except StopIteration:\n",
        "    print(\"Iteration Stoped\")\n",
        "    break\n",
        "\n",
        "ptl.ioff()\n",
        "plt.show()"
      ]
    },
    {
      "cell_type": "markdown",
      "source": [
        "# Predict(Video)"
      ],
      "metadata": {
        "id": "VOoxGxsNZ6Tl"
      }
    },
    {
      "cell_type": "code",
      "source": [
        "!cp /content/drive/MyDrive/final_model_reducecar_optparam/train/weights/last.pt /content/last.pt"
      ],
      "metadata": {
        "id": "8KkxFVRltcbS"
      },
      "execution_count": null,
      "outputs": []
    },
    {
      "cell_type": "code",
      "source": [
        "from ultralytics import YOLO\n",
        "model = YOLO(\"/content/last.pt\")"
      ],
      "metadata": {
        "id": "joS4jjrlYu13"
      },
      "execution_count": null,
      "outputs": []
    },
    {
      "cell_type": "code",
      "source": [
        "# Define source as YouTube video URL\n",
        "#source = 'https://www.youtube.com/watch?v=Hq0Y24UijMo'\n",
        "source = \"/content/720.mp4\"\n",
        "\n",
        "# Run inference on the source\n",
        "results = model.predict(source, vid_stride = 3)"
      ],
      "metadata": {
        "id": "UBwidI7raB1Q"
      },
      "execution_count": null,
      "outputs": []
    },
    {
      "cell_type": "code",
      "source": [
        "pathOut = '/content/gan2.mp4'\n",
        "fps = 30\n",
        "import cv2\n",
        "import numpy as np\n",
        "frame_array = []\n",
        "\n",
        "for idx, result in enumerate(results):\n",
        "  img = result.plot()\n",
        "  height, width, layers = img.shape\n",
        "  size = (width,height)\n",
        "  frame_array.append(img)\n",
        "\n",
        "out = cv2.VideoWriter(pathOut,cv2.VideoWriter_fourcc(*'DIVX'), fps, size)\n",
        "for i in range(len(frame_array)):\n",
        "    # writing to a image array\n",
        "    out.write(np.uint8(frame_array[i]))\n",
        "out.release()"
      ],
      "metadata": {
        "id": "jJ0bK9r1cheb"
      },
      "execution_count": null,
      "outputs": []
    },
    {
      "cell_type": "markdown",
      "source": [
        "# Validation"
      ],
      "metadata": {
        "id": "Qt-ubqNMjM0s"
      }
    },
    {
      "cell_type": "code",
      "source": [
        "!cp /content/drive/MyDrive/final_model_reducecar_optparam/train/weights/best.pt /content/best.pt"
      ],
      "metadata": {
        "id": "gWUU1Bvejab0"
      },
      "execution_count": 3,
      "outputs": []
    },
    {
      "cell_type": "code",
      "source": [
        "from ultralytics import YOLO\n",
        "model = YOLO(\"/content/best.pt\")\n",
        "\n",
        "res = []\n",
        "for i in range(0,10):\n",
        "  results = model.val(iou = i * 0.1)\n",
        "  res.append(results)"
      ],
      "metadata": {
        "id": "puUffnnQjS2s"
      },
      "execution_count": null,
      "outputs": []
    },
    {
      "cell_type": "code",
      "source": [
        "for i in range(0, 10):\n",
        "  result = res[i]\n",
        "  print(f\"{i*0.1} : \" + str(result.results_dict[\"metrics/mAP50(B)\"]))"
      ],
      "metadata": {
        "id": "aK-djkmltFHn"
      },
      "execution_count": null,
      "outputs": []
    },
    {
      "cell_type": "markdown",
      "metadata": {
        "id": "0toniZTTjtCP"
      },
      "source": [
        "# test code"
      ]
    },
    {
      "cell_type": "code",
      "execution_count": null,
      "metadata": {
        "colab": {
          "base_uri": "https://localhost:8080/"
        },
        "id": "g0xUVdPZiOQr",
        "outputId": "696fd92a-e890-4620-e46c-725a3fc58b88"
      },
      "outputs": [
        {
          "output_type": "stream",
          "name": "stdout",
          "text": [
            "ANSI_X3.4-1968\n"
          ]
        }
      ],
      "source": [
        "import locale\n",
        "print(locale.getpreferredencoding())"
      ]
    },
    {
      "cell_type": "code",
      "execution_count": null,
      "metadata": {
        "id": "T65RDToFjhBY"
      },
      "outputs": [],
      "source": [
        "def getpreferredencoding(do_setlocale = True):\n",
        "    return \"UTF-8\"\n",
        "locale.getpreferredencoding = getpreferredencoding"
      ]
    },
    {
      "cell_type": "code",
      "execution_count": null,
      "metadata": {
        "id": "iBm8ujgUiPK0"
      },
      "outputs": [],
      "source": [
        "!cp -ar \"/content/runs/detect/train/weights\" \"/content/drive/MyDrive/models/only pothole trained\""
      ]
    },
    {
      "cell_type": "code",
      "execution_count": null,
      "metadata": {
        "id": "Unw5nqLrjHBW"
      },
      "outputs": [],
      "source": [
        "def gen():\n",
        "  for i in range(10):\n",
        "    yield i"
      ]
    },
    {
      "cell_type": "code",
      "execution_count": null,
      "metadata": {
        "colab": {
          "base_uri": "https://localhost:8080/",
          "height": 390
        },
        "id": "4xJkIqQAlZ0j",
        "outputId": "2202dbba-e905-49b2-ed6d-24d46cda9660"
      },
      "outputs": [
        {
          "name": "stdout",
          "output_type": "stream",
          "text": [
            "0\n",
            "1\n",
            "2\n",
            "3\n",
            "4\n",
            "5\n",
            "6\n",
            "7\n",
            "8\n",
            "9\n"
          ]
        },
        {
          "ename": "StopIteration",
          "evalue": "ignored",
          "output_type": "error",
          "traceback": [
            "\u001b[0;31m---------------------------------------------------------------------------\u001b[0m",
            "\u001b[0;31mStopIteration\u001b[0m                             Traceback (most recent call last)",
            "\u001b[0;32m<ipython-input-22-761335c8179b>\u001b[0m in \u001b[0;36m<cell line: 4>\u001b[0;34m()\u001b[0m\n\u001b[1;32m      2\u001b[0m \u001b[0;32mfor\u001b[0m \u001b[0mi\u001b[0m \u001b[0;32min\u001b[0m \u001b[0mx\u001b[0m\u001b[0;34m:\u001b[0m\u001b[0;34m\u001b[0m\u001b[0;34m\u001b[0m\u001b[0m\n\u001b[1;32m      3\u001b[0m   \u001b[0mprint\u001b[0m\u001b[0;34m(\u001b[0m\u001b[0mi\u001b[0m\u001b[0;34m)\u001b[0m\u001b[0;34m\u001b[0m\u001b[0;34m\u001b[0m\u001b[0m\n\u001b[0;32m----> 4\u001b[0;31m \u001b[0mprint\u001b[0m\u001b[0;34m(\u001b[0m\u001b[0mnext\u001b[0m\u001b[0;34m(\u001b[0m\u001b[0mx\u001b[0m\u001b[0;34m)\u001b[0m\u001b[0;34m)\u001b[0m\u001b[0;34m\u001b[0m\u001b[0;34m\u001b[0m\u001b[0m\n\u001b[0m",
            "\u001b[0;31mStopIteration\u001b[0m: "
          ]
        }
      ],
      "source": [
        "x = gen()\n",
        "for i in x:\n",
        "  print(i)\n",
        "print(next(x))"
      ]
    },
    {
      "cell_type": "code",
      "execution_count": null,
      "metadata": {
        "id": "qbDos9UflcOO",
        "colab": {
          "base_uri": "https://localhost:8080/",
          "height": 327
        },
        "outputId": "a8c2891f-6190-46b8-8870-c514f20437e2"
      },
      "outputs": [
        {
          "output_type": "error",
          "ename": "NotImplementedError",
          "evalue": "ignored",
          "traceback": [
            "\u001b[0;31m---------------------------------------------------------------------------\u001b[0m",
            "\u001b[0;31mNotImplementedError\u001b[0m                       Traceback (most recent call last)",
            "\u001b[0;32m<ipython-input-20-1563cdd41f57>\u001b[0m in \u001b[0;36m<cell line: 1>\u001b[0;34m()\u001b[0m\n\u001b[0;32m----> 1\u001b[0;31m \u001b[0mget_ipython\u001b[0m\u001b[0;34m(\u001b[0m\u001b[0;34m)\u001b[0m\u001b[0;34m.\u001b[0m\u001b[0msystem\u001b[0m\u001b[0;34m(\u001b[0m\u001b[0;34m\" cp -r '/content/runs' '/content/drive/MyDrive/runs/'\"\u001b[0m\u001b[0;34m)\u001b[0m\u001b[0;34m\u001b[0m\u001b[0;34m\u001b[0m\u001b[0m\n\u001b[0m",
            "\u001b[0;32m/usr/local/lib/python3.10/dist-packages/google/colab/_shell.py\u001b[0m in \u001b[0;36msystem\u001b[0;34m(self, *args, **kwargs)\u001b[0m\n\u001b[1;32m     97\u001b[0m       \u001b[0mkwargs\u001b[0m\u001b[0;34m.\u001b[0m\u001b[0mupdate\u001b[0m\u001b[0;34m(\u001b[0m\u001b[0;34m{\u001b[0m\u001b[0;34m'also_return_output'\u001b[0m\u001b[0;34m:\u001b[0m \u001b[0;32mTrue\u001b[0m\u001b[0;34m}\u001b[0m\u001b[0;34m)\u001b[0m\u001b[0;34m\u001b[0m\u001b[0;34m\u001b[0m\u001b[0m\n\u001b[1;32m     98\u001b[0m \u001b[0;34m\u001b[0m\u001b[0m\n\u001b[0;32m---> 99\u001b[0;31m     \u001b[0moutput\u001b[0m \u001b[0;34m=\u001b[0m \u001b[0m_system_commands\u001b[0m\u001b[0;34m.\u001b[0m\u001b[0m_system_compat\u001b[0m\u001b[0;34m(\u001b[0m\u001b[0mself\u001b[0m\u001b[0;34m,\u001b[0m \u001b[0;34m*\u001b[0m\u001b[0margs\u001b[0m\u001b[0;34m,\u001b[0m \u001b[0;34m**\u001b[0m\u001b[0mkwargs\u001b[0m\u001b[0;34m)\u001b[0m  \u001b[0;31m# pylint:disable=protected-access\u001b[0m\u001b[0;34m\u001b[0m\u001b[0;34m\u001b[0m\u001b[0m\n\u001b[0m\u001b[1;32m    100\u001b[0m \u001b[0;34m\u001b[0m\u001b[0m\n\u001b[1;32m    101\u001b[0m     \u001b[0;32mif\u001b[0m \u001b[0mpip_warn\u001b[0m\u001b[0;34m:\u001b[0m\u001b[0;34m\u001b[0m\u001b[0;34m\u001b[0m\u001b[0m\n",
            "\u001b[0;32m/usr/local/lib/python3.10/dist-packages/google/colab/_system_commands.py\u001b[0m in \u001b[0;36m_system_compat\u001b[0;34m(shell, cmd, also_return_output)\u001b[0m\n\u001b[1;32m    451\u001b[0m   \u001b[0;31m# is expected to call this function, thus adding one level of nesting to the\u001b[0m\u001b[0;34m\u001b[0m\u001b[0;34m\u001b[0m\u001b[0m\n\u001b[1;32m    452\u001b[0m   \u001b[0;31m# stack.\u001b[0m\u001b[0;34m\u001b[0m\u001b[0;34m\u001b[0m\u001b[0m\n\u001b[0;32m--> 453\u001b[0;31m   result = _run_command(\n\u001b[0m\u001b[1;32m    454\u001b[0m       \u001b[0mshell\u001b[0m\u001b[0;34m.\u001b[0m\u001b[0mvar_expand\u001b[0m\u001b[0;34m(\u001b[0m\u001b[0mcmd\u001b[0m\u001b[0;34m,\u001b[0m \u001b[0mdepth\u001b[0m\u001b[0;34m=\u001b[0m\u001b[0;36m2\u001b[0m\u001b[0;34m)\u001b[0m\u001b[0;34m,\u001b[0m \u001b[0mclear_streamed_output\u001b[0m\u001b[0;34m=\u001b[0m\u001b[0;32mFalse\u001b[0m\u001b[0;34m\u001b[0m\u001b[0;34m\u001b[0m\u001b[0m\n\u001b[1;32m    455\u001b[0m   )\n",
            "\u001b[0;32m/usr/local/lib/python3.10/dist-packages/google/colab/_system_commands.py\u001b[0m in \u001b[0;36m_run_command\u001b[0;34m(cmd, clear_streamed_output)\u001b[0m\n\u001b[1;32m    165\u001b[0m   \u001b[0mlocale_encoding\u001b[0m \u001b[0;34m=\u001b[0m \u001b[0mlocale\u001b[0m\u001b[0;34m.\u001b[0m\u001b[0mgetpreferredencoding\u001b[0m\u001b[0;34m(\u001b[0m\u001b[0;34m)\u001b[0m\u001b[0;34m\u001b[0m\u001b[0;34m\u001b[0m\u001b[0m\n\u001b[1;32m    166\u001b[0m   \u001b[0;32mif\u001b[0m \u001b[0mlocale_encoding\u001b[0m \u001b[0;34m!=\u001b[0m \u001b[0m_ENCODING\u001b[0m\u001b[0;34m:\u001b[0m\u001b[0;34m\u001b[0m\u001b[0;34m\u001b[0m\u001b[0m\n\u001b[0;32m--> 167\u001b[0;31m     raise NotImplementedError(\n\u001b[0m\u001b[1;32m    168\u001b[0m         \u001b[0;34m'A UTF-8 locale is required. Got {}'\u001b[0m\u001b[0;34m.\u001b[0m\u001b[0mformat\u001b[0m\u001b[0;34m(\u001b[0m\u001b[0mlocale_encoding\u001b[0m\u001b[0;34m)\u001b[0m\u001b[0;34m\u001b[0m\u001b[0;34m\u001b[0m\u001b[0m\n\u001b[1;32m    169\u001b[0m     )\n",
            "\u001b[0;31mNotImplementedError\u001b[0m: A UTF-8 locale is required. Got ANSI_X3.4-1968"
          ]
        }
      ],
      "source": [
        "! cp -r '/content/runs' '/content/drive/MyDrive/runs/'"
      ]
    },
    {
      "cell_type": "code",
      "source": [
        "#shell 명령어 안될때( A UTF-8 locale is required. Got ANSI_X3.4-1968)\n",
        "import locale\n",
        "def getpreferredencoding(do_setlocale = True):\n",
        "    return \"UTF-8\"\n",
        "locale.getpreferredencoding = getpreferredencoding"
      ],
      "metadata": {
        "id": "pVOT0uEhrirG"
      },
      "execution_count": null,
      "outputs": []
    },
    {
      "cell_type": "code",
      "source": [],
      "metadata": {
        "id": "v5oZH_Zqrq2k"
      },
      "execution_count": null,
      "outputs": []
    }
  ],
  "metadata": {
    "accelerator": "GPU",
    "colab": {
      "provenance": [],
      "machine_shape": "hm",
      "gpuType": "T4",
      "collapsed_sections": [
        "fShF-Qx2qs4h",
        "rXEJWwg9-53A",
        "VOoxGxsNZ6Tl",
        "Qt-ubqNMjM0s",
        "0toniZTTjtCP"
      ]
    },
    "kernelspec": {
      "display_name": "Python 3",
      "name": "python3"
    },
    "language_info": {
      "name": "python"
    }
  },
  "nbformat": 4,
  "nbformat_minor": 0
}